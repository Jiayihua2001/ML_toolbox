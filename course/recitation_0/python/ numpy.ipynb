{
 "cells": [
  {
   "cell_type": "code",
   "execution_count": 1,
   "metadata": {},
   "outputs": [],
   "source": [
    "import numpy as np"
   ]
  },
  {
   "cell_type": "code",
   "execution_count": 6,
   "metadata": {},
   "outputs": [],
   "source": [
    "# random\n",
    "np.random.seed(0)\n",
    "np.random.randint(3,10,size=(2,3))\n",
    "uniform_dis = np.random.rand(3,2)\n",
    "\n",
    "mean = 2 \n",
    "sigma = 3  # standard deviation\n",
    "distribution = mean+sigma*np.random.randn(2,4)  # normal distribution\n"
   ]
  },
  {
   "cell_type": "code",
   "execution_count": 7,
   "metadata": {},
   "outputs": [
    {
     "data": {
      "text/plain": [
       "0.21655035442437187"
      ]
     },
     "execution_count": 7,
     "metadata": {},
     "output_type": "execute_result"
    }
   ],
   "source": [
    "n = np.random.rand(4, 5, 6)   # 4 is index of batch\n",
    "n[0,2,3]\n",
    "\n",
    "n[0::2]  # start:stop:step (interval) "
   ]
  },
  {
   "cell_type": "code",
   "execution_count": 14,
   "metadata": {},
   "outputs": [
    {
     "name": "stdout",
     "output_type": "stream",
     "text": [
      "(4, 1, 2)\n"
     ]
    }
   ],
   "source": [
    "k =np.random.rand(4,1,2)\n",
    "# flatten\n",
    "k.flatten()  # concat each row into 1-d array\n",
    "k.flatten('F') # concat each column into 1-d array\n",
    "k.reshape(-1)  # also means flatten\n",
    "\n",
    "k_sq = np.squeeze(k,axis=1)\n",
    "\n",
    "y1 = np.expand_dims(k_sq, axis=1)\n",
    "print(y1.shape)"
   ]
  },
  {
   "cell_type": "code",
   "execution_count": 16,
   "metadata": {},
   "outputs": [],
   "source": [
    "axis=1  #compute along row ,regard column as an identity\n",
    "axis=0  #compute along column ,regard row as an identity\n",
    "\n",
    "l1_norm_value = np.linalg.norm(y1, ord=2) # euclidean\n",
    "np.mean()  \n",
    "np.argmax()\n",
    "np.argmin()\n",
    "\n",
    "# A 's dimension  (3, 4, 5) \n",
    "# B 's dimension  (4, 3, 2) \n",
    "a =np.random.rand(3,4,5)\n",
    "b =np.random.rand(4,3,2)\n",
    "c = np.tensordot(a,b, axes=([1,0],[0,1]))  # 4-4 3-3\n"
   ]
  }
 ],
 "metadata": {
  "kernelspec": {
   "display_name": "Python 3",
   "language": "python",
   "name": "python3"
  },
  "language_info": {
   "codemirror_mode": {
    "name": "ipython",
    "version": 3
   },
   "file_extension": ".py",
   "mimetype": "text/x-python",
   "name": "python",
   "nbconvert_exporter": "python",
   "pygments_lexer": "ipython3",
   "version": "3.11.8"
  }
 },
 "nbformat": 4,
 "nbformat_minor": 2
}
