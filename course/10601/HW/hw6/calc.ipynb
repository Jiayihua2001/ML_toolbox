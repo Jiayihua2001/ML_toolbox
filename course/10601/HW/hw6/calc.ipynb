{
 "cells": [
  {
   "cell_type": "code",
   "execution_count": 57,
   "metadata": {},
   "outputs": [
    {
     "name": "stdout",
     "output_type": "stream",
     "text": [
      "  Region  FICO Score  Savings Rate (%)  Credit History (months)  Label\n",
      "0      A    544.0625              28.0                       21      1\n",
      "1      A    489.0625              33.9                       40      0\n",
      "2      A    433.1250              62.3                      100      0\n",
      "3      A    429.0625              56.7                      203      1\n",
      "4      A    417.8125              56.5                        5      0\n",
      "5      A    506.5625              32.7                       75      1\n",
      "6      A    400.6250              60.7                      216      0\n",
      "7      A    836.8750              10.7                       86      1\n",
      "8      A    471.8750              36.2                       92      1\n",
      "9      A    402.8125              62.0                      199      0\n",
      "0.4\n",
      "3 1 4 2\n"
     ]
    }
   ],
   "source": [
    "import os\n",
    "import numpy as np\n",
    "import pandas as pd\n",
    "\n",
    "df=pd.read_csv('fairness_dataset.csv')\n",
    "data=df[df['Region']=='A']\n",
    "print(data)\n",
    "\n",
    "label_l=[]\n",
    "N=data.shape[0]\n",
    "mean_s=(data['FICO Score']+data['Savings Rate (%)']+data['Credit History (months)'])/3\n",
    "mean=mean_s.to_numpy()\n",
    "for i in range(N):\n",
    "    if mean[i] >= 198.09:\n",
    "        label_l.append(1)\n",
    "    else:\n",
    "        label_l.append(0)\n",
    "y_p=np.array(label_l)\n",
    "y_t=data['Label'].to_numpy()\n",
    "total_error=0\n",
    "FP=0\n",
    "FN=0\n",
    "PP=0\n",
    "NN=0\n",
    "for i in range(N):\n",
    "    if y_p[i] == y_t[i]:\n",
    "        if y_p[i]==1:\n",
    "            PP+=1\n",
    "        else:\n",
    "            NN+=1\n",
    "    else:\n",
    "        total_error+=1\n",
    "        if y_p[i]==1 and y_t[i]==0:\n",
    "            FP+=1\n",
    "        elif y_p[i]==0 and y_t[i]==1:\n",
    "            FN+=1\n",
    "FP=FP\n",
    "FN=FN\n",
    "PP=PP\n",
    "NN=NN\n",
    "error_rate=total_error/N\n",
    "print(error_rate)\n",
    "print(FP,FN,PP,NN)\n",
    "    \n",
    "        \n",
    "\n"
   ]
  },
  {
   "cell_type": "code",
   "execution_count": 18,
   "metadata": {},
   "outputs": [
    {
     "data": {
      "text/html": [
       "<div>\n",
       "<style scoped>\n",
       "    .dataframe tbody tr th:only-of-type {\n",
       "        vertical-align: middle;\n",
       "    }\n",
       "\n",
       "    .dataframe tbody tr th {\n",
       "        vertical-align: top;\n",
       "    }\n",
       "\n",
       "    .dataframe thead th {\n",
       "        text-align: right;\n",
       "    }\n",
       "</style>\n",
       "<table border=\"1\" class=\"dataframe\">\n",
       "  <thead>\n",
       "    <tr style=\"text-align: right;\">\n",
       "      <th></th>\n",
       "      <th>Name</th>\n",
       "      <th>Age</th>\n",
       "      <th>money</th>\n",
       "      <th>City</th>\n",
       "    </tr>\n",
       "  </thead>\n",
       "  <tbody>\n",
       "    <tr>\n",
       "      <th>0</th>\n",
       "      <td>John</td>\n",
       "      <td>28</td>\n",
       "      <td>2</td>\n",
       "      <td>New York</td>\n",
       "    </tr>\n",
       "    <tr>\n",
       "      <th>1</th>\n",
       "      <td>Anna</td>\n",
       "      <td>34</td>\n",
       "      <td>3</td>\n",
       "      <td>Paris</td>\n",
       "    </tr>\n",
       "    <tr>\n",
       "      <th>2</th>\n",
       "      <td>Peter</td>\n",
       "      <td>29</td>\n",
       "      <td>4</td>\n",
       "      <td>Berlin</td>\n",
       "    </tr>\n",
       "    <tr>\n",
       "      <th>3</th>\n",
       "      <td>Linda</td>\n",
       "      <td>32</td>\n",
       "      <td>5</td>\n",
       "      <td>London</td>\n",
       "    </tr>\n",
       "  </tbody>\n",
       "</table>\n",
       "</div>"
      ],
      "text/plain": [
       "    Name  Age  money      City\n",
       "0   John   28      2  New York\n",
       "1   Anna   34      3     Paris\n",
       "2  Peter   29      4    Berlin\n",
       "3  Linda   32      5    London"
      ]
     },
     "execution_count": 18,
     "metadata": {},
     "output_type": "execute_result"
    }
   ],
   "source": [
    "data = {'Name': ['John', 'Anna', 'Peter', 'Linda'],\n",
    "        'Age': [28, 34, 29, 32],\n",
    "        'money':[2,3,4,5],\n",
    "        'City': ['New York', 'Paris', 'Berlin', 'London']}\n",
    "df = pd.DataFrame(data)\n",
    "df.head()\n",
    "\n",
    "\n",
    "\n"
   ]
  }
 ],
 "metadata": {
  "kernelspec": {
   "display_name": "Python 3",
   "language": "python",
   "name": "python3"
  },
  "language_info": {
   "codemirror_mode": {
    "name": "ipython",
    "version": 3
   },
   "file_extension": ".py",
   "mimetype": "text/x-python",
   "name": "python",
   "nbconvert_exporter": "python",
   "pygments_lexer": "ipython3",
   "version": "3.9.6"
  }
 },
 "nbformat": 4,
 "nbformat_minor": 2
}
