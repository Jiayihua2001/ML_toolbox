{
 "cells": [
  {
   "cell_type": "code",
   "execution_count": 16,
   "metadata": {},
   "outputs": [
    {
     "name": "stdout",
     "output_type": "stream",
     "text": [
      "[ 3  9 10]\n",
      "7.313928104546676\n"
     ]
    }
   ],
   "source": [
    "import numpy as np\n",
    "\n",
    "W =np.array([[1,0,1],[1,1,1],[0,1,1],[0,1,1]])\n",
    "X=np.array([1,2,3,4])\n",
    "Z= W.T@X\n",
    "print(Z)\n",
    "def softmax(Z):\n",
    "    softmax =[]\n",
    "    Z_sum =np.sum(np.exp(Z))\n",
    "    for i in range(len(Z)):\n",
    "        softmax.append(float(np.exp(Z[i])/Z_sum))\n",
    "    return np.array(softmax)\n",
    "\n",
    "soft_Z = softmax(Z)\n",
    "print(-np.log(soft_Z[0]))"
   ]
  },
  {
   "cell_type": "code",
   "execution_count": 24,
   "metadata": {},
   "outputs": [
    {
     "name": "stdout",
     "output_type": "stream",
     "text": [
      "0.5025460365546746\n"
     ]
    }
   ],
   "source": [
    "t=0\n",
    "def update(x):\n",
    "    global t\n",
    "    if t>100:\n",
    "        return x\n",
    "    t+=1\n",
    "    x_new = x+ 0.001*(2*x+20*np.pi*np.sin(2*np.pi*x))\n",
    "    return update(x_new)\n",
    "print(update(0.2))"
   ]
  }
 ],
 "metadata": {
  "kernelspec": {
   "display_name": "Python 3",
   "language": "python",
   "name": "python3"
  },
  "language_info": {
   "codemirror_mode": {
    "name": "ipython",
    "version": 3
   },
   "file_extension": ".py",
   "mimetype": "text/x-python",
   "name": "python",
   "nbconvert_exporter": "python",
   "pygments_lexer": "ipython3",
   "version": "3.9.6"
  }
 },
 "nbformat": 4,
 "nbformat_minor": 2
}
